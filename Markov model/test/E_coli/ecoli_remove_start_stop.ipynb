{
 "cells": [
  {
   "cell_type": "code",
   "execution_count": 1,
   "metadata": {},
   "outputs": [],
   "source": [
    "import pandas as pd"
   ]
  },
  {
   "cell_type": "code",
   "execution_count": 9,
   "metadata": {},
   "outputs": [],
   "source": [
    "essential = pd.read_csv('/home/bikash/Project/Avoidance-v2-master/avoidance2/test/Ecoli/essential.csv')\n",
    "non_essential = pd.read_csv('/home/bikash/Project/Avoidance-v2-master/avoidance2/test/Ecoli/non_essential.csv')"
   ]
  },
  {
   "cell_type": "markdown",
   "metadata": {},
   "source": [
    "# For essential"
   ]
  },
  {
   "cell_type": "code",
   "execution_count": 3,
   "metadata": {},
   "outputs": [
    {
     "data": {
      "text/html": [
       "<div>\n",
       "<style scoped>\n",
       "    .dataframe tbody tr th:only-of-type {\n",
       "        vertical-align: middle;\n",
       "    }\n",
       "\n",
       "    .dataframe tbody tr th {\n",
       "        vertical-align: top;\n",
       "    }\n",
       "\n",
       "    .dataframe thead th {\n",
       "        text-align: right;\n",
       "    }\n",
       "</style>\n",
       "<table border=\"1\" class=\"dataframe\">\n",
       "  <thead>\n",
       "    <tr style=\"text-align: right;\">\n",
       "      <th></th>\n",
       "      <th>sequence</th>\n",
       "      <th>bnum</th>\n",
       "    </tr>\n",
       "  </thead>\n",
       "  <tbody>\n",
       "    <tr>\n",
       "      <th>0</th>\n",
       "      <td>ATGGCTATCACTGGCATCTTTTTCGGCAGCGACACCGGTAATACCG...</td>\n",
       "      <td>b0684</td>\n",
       "    </tr>\n",
       "    <tr>\n",
       "      <th>1</th>\n",
       "      <td>ATGTTAGATATAGTCGAACTGTCGCGCTTACAGTTTGCCTTGACCG...</td>\n",
       "      <td>b0733</td>\n",
       "    </tr>\n",
       "    <tr>\n",
       "      <th>2</th>\n",
       "      <td>ATGCGCGCTTTGCTACCCTATCTGGCACTGTATAAACGTCATAAAT...</td>\n",
       "      <td>b0886</td>\n",
       "    </tr>\n",
       "    <tr>\n",
       "      <th>3</th>\n",
       "      <td>ATGAACCAACGTAATGCTTCAATGACTGTGATCGGTGCCGGCTCGT...</td>\n",
       "      <td>b3608</td>\n",
       "    </tr>\n",
       "    <tr>\n",
       "      <th>4</th>\n",
       "      <td>GTGAAAACATTAATTCTTTTCTCAACAAGGGACGGACAAACGCGCG...</td>\n",
       "      <td>b3850</td>\n",
       "    </tr>\n",
       "  </tbody>\n",
       "</table>\n",
       "</div>"
      ],
      "text/plain": [
       "                                            sequence   bnum\n",
       "0  ATGGCTATCACTGGCATCTTTTTCGGCAGCGACACCGGTAATACCG...  b0684\n",
       "1  ATGTTAGATATAGTCGAACTGTCGCGCTTACAGTTTGCCTTGACCG...  b0733\n",
       "2  ATGCGCGCTTTGCTACCCTATCTGGCACTGTATAAACGTCATAAAT...  b0886\n",
       "3  ATGAACCAACGTAATGCTTCAATGACTGTGATCGGTGCCGGCTCGT...  b3608\n",
       "4  GTGAAAACATTAATTCTTTTCTCAACAAGGGACGGACAAACGCGCG...  b3850"
      ]
     },
     "execution_count": 3,
     "metadata": {},
     "output_type": "execute_result"
    }
   ],
   "source": [
    "essential.head()"
   ]
  },
  {
   "cell_type": "code",
   "execution_count": 4,
   "metadata": {},
   "outputs": [],
   "source": [
    "stripped_genomes=[]\n",
    "for i in range(len(essential['sequence'])):\n",
    "    stop_codons=['TGA','TAA','TAG']\n",
    "    strip_start = essential['sequence'][i][3:]\n",
    "    if strip_start[-3:] in stop_codons: #check for stop codons at the end\n",
    "        stripped_genomes.append(essential['sequence'][i][3:len(essential['sequence'][i])-3])\n",
    "        #strip stop codons if found\n",
    "    else:\n",
    "        stripped_genomes.append(essential['sequence'][i][3:])\n"
   ]
  },
  {
   "cell_type": "code",
   "execution_count": 6,
   "metadata": {},
   "outputs": [
    {
     "data": {
      "text/html": [
       "<div>\n",
       "<style scoped>\n",
       "    .dataframe tbody tr th:only-of-type {\n",
       "        vertical-align: middle;\n",
       "    }\n",
       "\n",
       "    .dataframe tbody tr th {\n",
       "        vertical-align: top;\n",
       "    }\n",
       "\n",
       "    .dataframe thead th {\n",
       "        text-align: right;\n",
       "    }\n",
       "</style>\n",
       "<table border=\"1\" class=\"dataframe\">\n",
       "  <thead>\n",
       "    <tr style=\"text-align: right;\">\n",
       "      <th></th>\n",
       "      <th>sequence</th>\n",
       "      <th>name</th>\n",
       "    </tr>\n",
       "  </thead>\n",
       "  <tbody>\n",
       "    <tr>\n",
       "      <th>0</th>\n",
       "      <td>GCTATCACTGGCATCTTTTTCGGCAGCGACACCGGTAATACCGAAA...</td>\n",
       "      <td>b0684</td>\n",
       "    </tr>\n",
       "    <tr>\n",
       "      <th>1</th>\n",
       "      <td>TTAGATATAGTCGAACTGTCGCGCTTACAGTTTGCCTTGACCGCGA...</td>\n",
       "      <td>b0733</td>\n",
       "    </tr>\n",
       "    <tr>\n",
       "      <th>2</th>\n",
       "      <td>CGCGCTTTGCTACCCTATCTGGCACTGTATAAACGTCATAAATGGA...</td>\n",
       "      <td>b0886</td>\n",
       "    </tr>\n",
       "    <tr>\n",
       "      <th>3</th>\n",
       "      <td>AACCAACGTAATGCTTCAATGACTGTGATCGGTGCCGGCTCGTACG...</td>\n",
       "      <td>b3608</td>\n",
       "    </tr>\n",
       "    <tr>\n",
       "      <th>4</th>\n",
       "      <td>AAAACATTAATTCTTTTCTCAACAAGGGACGGACAAACGCGCGAGA...</td>\n",
       "      <td>b3850</td>\n",
       "    </tr>\n",
       "  </tbody>\n",
       "</table>\n",
       "</div>"
      ],
      "text/plain": [
       "                                            sequence   name\n",
       "0  GCTATCACTGGCATCTTTTTCGGCAGCGACACCGGTAATACCGAAA...  b0684\n",
       "1  TTAGATATAGTCGAACTGTCGCGCTTACAGTTTGCCTTGACCGCGA...  b0733\n",
       "2  CGCGCTTTGCTACCCTATCTGGCACTGTATAAACGTCATAAATGGA...  b0886\n",
       "3  AACCAACGTAATGCTTCAATGACTGTGATCGGTGCCGGCTCGTACG...  b3608\n",
       "4  AAAACATTAATTCTTTTCTCAACAAGGGACGGACAAACGCGCGAGA...  b3850"
      ]
     },
     "execution_count": 6,
     "metadata": {},
     "output_type": "execute_result"
    }
   ],
   "source": [
    "stripped_genomes_df = pd.DataFrame(stripped_genomes,columns=['sequence'])\n",
    "stripped_genomes_df['name']=essential['bnum']\n",
    "stripped_genomes_df.head()"
   ]
  },
  {
   "cell_type": "code",
   "execution_count": 7,
   "metadata": {},
   "outputs": [],
   "source": [
    "stripped_genomes_df.to_csv('/home/bikash/Project/Avoidance-v2-master/avoidance2/test/Ecoli/essential_stripped.csv', index=False)"
   ]
  },
  {
   "cell_type": "markdown",
   "metadata": {},
   "source": [
    "# For non essential"
   ]
  },
  {
   "cell_type": "code",
   "execution_count": 10,
   "metadata": {},
   "outputs": [
    {
     "data": {
      "text/html": [
       "<div>\n",
       "<style scoped>\n",
       "    .dataframe tbody tr th:only-of-type {\n",
       "        vertical-align: middle;\n",
       "    }\n",
       "\n",
       "    .dataframe tbody tr th {\n",
       "        vertical-align: top;\n",
       "    }\n",
       "\n",
       "    .dataframe thead th {\n",
       "        text-align: right;\n",
       "    }\n",
       "</style>\n",
       "<table border=\"1\" class=\"dataframe\">\n",
       "  <thead>\n",
       "    <tr style=\"text-align: right;\">\n",
       "      <th></th>\n",
       "      <th>sequence</th>\n",
       "      <th>name</th>\n",
       "    </tr>\n",
       "  </thead>\n",
       "  <tbody>\n",
       "    <tr>\n",
       "      <th>0</th>\n",
       "      <td>GATCATCTACCCATGCCGAAATTCGGGCCGTTGGCCGGATTGCGCG...</td>\n",
       "      <td>b0038</td>\n",
       "    </tr>\n",
       "    <tr>\n",
       "      <th>1</th>\n",
       "      <td>AAGATTATTACTTGCTATAAGTGCGTGCCTGATGAACAGGATATTG...</td>\n",
       "      <td>b0041</td>\n",
       "    </tr>\n",
       "    <tr>\n",
       "      <th>2</th>\n",
       "      <td>AACACGTTTTCTCAAGTCTGGGTATTCAGCGATACCCCTTCTCGTC...</td>\n",
       "      <td>b0042</td>\n",
       "    </tr>\n",
       "    <tr>\n",
       "      <th>3</th>\n",
       "      <td>TCCGAAGATATCTTTGACGCCATCATCGTCGGTGCAGGGCTTGCCG...</td>\n",
       "      <td>b0043</td>\n",
       "    </tr>\n",
       "    <tr>\n",
       "      <th>4</th>\n",
       "      <td>ACTTCTCCCGTCAATGTGGACGTCAAACTGGGCGTCAATAAATTCA...</td>\n",
       "      <td>b0044</td>\n",
       "    </tr>\n",
       "  </tbody>\n",
       "</table>\n",
       "</div>"
      ],
      "text/plain": [
       "                                            sequence   name\n",
       "0  GATCATCTACCCATGCCGAAATTCGGGCCGTTGGCCGGATTGCGCG...  b0038\n",
       "1  AAGATTATTACTTGCTATAAGTGCGTGCCTGATGAACAGGATATTG...  b0041\n",
       "2  AACACGTTTTCTCAAGTCTGGGTATTCAGCGATACCCCTTCTCGTC...  b0042\n",
       "3  TCCGAAGATATCTTTGACGCCATCATCGTCGGTGCAGGGCTTGCCG...  b0043\n",
       "4  ACTTCTCCCGTCAATGTGGACGTCAAACTGGGCGTCAATAAATTCA...  b0044"
      ]
     },
     "execution_count": 10,
     "metadata": {},
     "output_type": "execute_result"
    }
   ],
   "source": [
    "stripped_genomes=[]\n",
    "for i in range(len(non_essential['sequence'])):\n",
    "    stop_codons=['TGA','TAA','TAG']\n",
    "    strip_start = non_essential['sequence'][i][3:]\n",
    "    if strip_start[-3:] in stop_codons: #check for stop codons at the end\n",
    "        stripped_genomes.append(non_essential['sequence'][i][3:len(non_essential['sequence'][i])-3])\n",
    "        #strip stop codons if found\n",
    "    else:\n",
    "        stripped_genomes.append(non_essential['sequence'][i][3:])\n",
    "stripped_genomes_df = pd.DataFrame(stripped_genomes,columns=['sequence'])\n",
    "stripped_genomes_df['name']=non_essential['bnum']\n",
    "stripped_genomes_df.head()"
   ]
  },
  {
   "cell_type": "code",
   "execution_count": 12,
   "metadata": {},
   "outputs": [],
   "source": [
    "stripped_genomes_df.to_csv('/home/bikash/Project/Avoidance-v2-master/avoidance2/test/Ecoli/non_essential_stripped.csv', index=False)"
   ]
  },
  {
   "cell_type": "code",
   "execution_count": null,
   "metadata": {},
   "outputs": [],
   "source": []
  }
 ],
 "metadata": {
  "kernelspec": {
   "display_name": "Python 3",
   "language": "python",
   "name": "python3"
  },
  "language_info": {
   "codemirror_mode": {
    "name": "ipython",
    "version": 3
   },
   "file_extension": ".py",
   "mimetype": "text/x-python",
   "name": "python",
   "nbconvert_exporter": "python",
   "pygments_lexer": "ipython3",
   "version": "3.7.2+"
  }
 },
 "nbformat": 4,
 "nbformat_minor": 2
}
