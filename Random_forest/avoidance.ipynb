{
 "cells": [
  {
   "cell_type": "code",
   "execution_count": 1,
   "metadata": {},
   "outputs": [
    {
     "data": {
      "text/html": [
       "<style>.container { width:100% !important; }</style>"
      ],
      "text/plain": [
       "<IPython.core.display.HTML object>"
      ]
     },
     "metadata": {},
     "output_type": "display_data"
    }
   ],
   "source": [
    "import os\n",
    "import sys\n",
    "import argparse\n",
    "import itertools\n",
    "import subprocess\n",
    "import pandas as pd\n",
    "import multiprocessing\n",
    "from itertools import cycle, islice\n",
    "from libs import functions\n",
    "from datetime import datetime\n",
    "from multiprocessing import Pool\n",
    "from subprocess import run, PIPE\n",
    "from IPython.core.display import display, HTML\n",
    "display(HTML(\"<style>.container { width:100% !important; }</style>\"))"
   ]
  },
  {
   "cell_type": "code",
   "execution_count": 2,
   "metadata": {},
   "outputs": [],
   "source": [
    "def valid_file(param):\n",
    "    base, ext = os.path.splitext(param)\n",
    "    if ext.lower() not in ('.csv', '.fasta','.fa'):\n",
    "        raise argparse.ArgumentTypeError('File must have a csv or fasta extension')\n",
    "    return param\n",
    "\n",
    "\n",
    "def check_arg(args=None):\n",
    "    parser = argparse.ArgumentParser(description='Avoidance calculator script')\n",
    "    parser.add_argument('-m', '--mrna',\n",
    "                        type=valid_file,\n",
    "                        help='mrna in csv or fasta format',\n",
    "                        required='True')\n",
    "    parser.add_argument('-n', '--ncrna',\n",
    "                        type=valid_file,\n",
    "                        help='ncrna in csv or fasta format',\n",
    "                        required='True')\n",
    "    parser.add_argument('-l','--length',\n",
    "                        help='length to calculate interactions for. default = 30 nt')\n",
    "    parser.add_argument('-o', '--output',\n",
    "                        help='Output file name.',\n",
    "                        default = 'avoidance')\n",
    "    parser.add_argument('-p','--processes',\n",
    "                        type=int,\n",
    "                        help='number of process to spawn. Default = 16')\n",
    "\n",
    "    results = parser.parse_args(args)\n",
    "    return (results.mrna,\n",
    "            results.ncrna,\n",
    "            results.length,\n",
    "            results.output,\n",
    "            results.processes)\n",
    "\n",
    "\n",
    "def progress(iteration, total):   \n",
    "    bars_string = int(float(iteration) / float(total) * 50.)\n",
    "    sys.stdout.write(\n",
    "        \"\\r|%-50s| %d%% (%s/%s)\" % (\n",
    "            '█'*bars_string+ \"░\" * (50 - bars_string), float(iteration) / float(total) * 100,\n",
    "            iteration,\n",
    "            total\n",
    "        ) \n",
    "    )\n",
    "    sys.stdout.flush()\n",
    "    if iteration == total:\n",
    "        print(' Completed!') \n",
    "        \n",
    "        \n",
    "def fasta_to_dataframe(f):\n",
    "    fasta_df = pd.read_csv(f,sep='>', lineterminator='>', header=None)\n",
    "    fasta_df[['accession','sequence']] = fasta_df[0].str.split('\\n', 1, expand=True)\n",
    "    fasta_df['accession'] = '>' + fasta_df['accession']\n",
    "    fasta_df['sequence'] = fasta_df['sequence'].replace('\\n', '', regex=True)\n",
    "    fasta_df.drop(0, axis=1, inplace=True)\n",
    "    fasta_df.set_index('accession', inplace=True)\n",
    "    fasta_df = fasta_df[fasta_df.sequence != '']\n",
    "    final_df = fasta_df.dropna()\n",
    "    return final_df\n",
    "\n",
    "\n",
    "def interaction_calc(seq):\n",
    "    proc = run(['RNAup', '-b','-o','--interaction_first'], stdout=PIPE,stderr=subprocess.DEVNULL,\n",
    "               input=str.encode(seq)) #input is a stdin object so encode input str\n",
    "    return str(proc.stdout).replace(\"\\\\n\",\" \").replace(\"b'\",\"\")"
   ]
  },
  {
   "cell_type": "code",
   "execution_count": null,
   "metadata": {},
   "outputs": [],
   "source": [
    "# %%timeit\n",
    "mrna = fasta_to_dataframe(\"test.fa\")\n",
    "ncrna = fasta_to_dataframe(\"test_ncrna.fa\")\n",
    "mrna['mrna_seq'] = '>' + mrna[1].map(str) + '\\n' + mrna[0].map(str).str[:30] + '\\n'\n",
    "ncrna['ncrna_seq'] = '>' + ncrna[1].map(str) + '\\n' + ncrna[0].map(str) + '\\n'\n",
    "mrna_seq = [rows['mrna_seq'] for index,rows in mrna.iterrows()]   \n",
    "ncrna_seq = [rows['ncrna_seq'] for index,rows in ncrna.iterrows()]\n",
    "index = pd.MultiIndex.from_product([mrna_seq , ncrna_seq], names = ['mrna', 'ncrna'])\n",
    "sequence_df = pd.DataFrame(index = index).reset_index()\n",
    "df = sequence_df.pivot(index='mrna',columns='ncrna',values='ncrna')\n",
    "df['interaction_first'] = df.reset_index().values.sum(axis=1)"
   ]
  },
  {
   "cell_type": "code",
   "execution_count": null,
   "metadata": {},
   "outputs": [],
   "source": [
    "total_pairs = df.shape[0]\n",
    "my_pool = Pool(4)\n",
    "interactions = []\n",
    "functions.progress(0,total_pairs)\n",
    "for i in my_pool.imap_unordered(interaction_calc, df['interaction_first'], chunksize = int(total_pairs/4)):\n",
    "    interactions.append(i)\n",
    "    functions.progress(len(interactions),total_pairs)\n",
    "\n",
    "my_pool.close()\n",
    "my_pool.join()"
   ]
  },
  {
   "cell_type": "code",
   "execution_count": null,
   "metadata": {},
   "outputs": [],
   "source": [
    "seq_id = pd.Series(interactions).str.extractall(r'(>[\\S]+)')[0].str.replace('>', '', regex=True).to_frame()\n",
    "ncrna_id = (seq_id.loc[pd.IndexSlice[:, 1:], :]).reset_index().set_index('level_0')\n",
    "mrna_id = (seq_id.loc[pd.IndexSlice[:, 0], :]).reset_index().set_index('level_0')\n",
    "binding_energy = pd.Series(interactions).str.extractall(r'(\\(-[0-9]+\\.[0-9]+)')[0].str.replace('(', '', regex=True).to_frame().reset_index().set_index('level_0')\n",
    "d = pd.concat([mrna_id.iloc[:,[1]], ncrna_id.iloc[:,[1]]], axis=1)\n",
    "match = cycle(list(range(len(ncrna))))\n",
    "d['match'] = [next(match) for i in range(len(d))]"
   ]
  },
  {
   "cell_type": "code",
   "execution_count": null,
   "metadata": {},
   "outputs": [],
   "source": [
    "d = d.reset_index()\n",
    "d['level_0']=d['level_0'].astype(int)\n",
    "\n",
    "binding_energy = binding_energy.reset_index()\n",
    "binding_energy['level_0']=binding_energy['level_0'].astype(int)\n",
    "binding_energy['match']=binding_energy['match'].astype(int)\n",
    "d = pd.merge(binding_energy.reset_index(), d.reset_index(), on=['level_0','match'])"
   ]
  },
  {
   "cell_type": "code",
   "execution_count": null,
   "metadata": {},
   "outputs": [],
   "source": [
    "d = d.iloc[:,[5,6,3]]\n",
    "d.columns = ['Accession', 'ncRNA', 'Binding_energy']"
   ]
  },
  {
   "cell_type": "code",
   "execution_count": 3,
   "metadata": {},
   "outputs": [],
   "source": [
    "#one ncRNA multi mRNAs\n",
    "mrna = fasta_to_dataframe(\"test.fa\")\n",
    "ncrna = fasta_to_dataframe(\"test_ncrna1.fa\")\n",
    "ncrna = ncrna.reset_index().reset_index().rename(index=str, columns={'index': 'interaction'})"
   ]
  },
  {
   "cell_type": "code",
   "execution_count": 4,
   "metadata": {},
   "outputs": [],
   "source": [
    "p = 2\n",
    "label = (x for x in cycle(list(range(0,p))))\n",
    "label = pd.DataFrame({'label': list(islice(label, len(mrna)))})\n",
    "df = pd.concat([label, mrna.reset_index()], axis=1)\n",
    "df['mrna'] = df['accession'] + ':break' + '\\n' + df['sequence'] + '\\n'\n",
    "df = df.groupby('label')['mrna'].apply(''.join).to_frame().reset_index()\n",
    "df.insert(2, 'interaction', 0)\n",
    "df = pd.merge(df, ncrna, on='interaction')"
   ]
  },
  {
   "cell_type": "code",
   "execution_count": 5,
   "metadata": {},
   "outputs": [],
   "source": [
    "df['fasta'] = df['accession'] + '\\n' + df['sequence'] + '\\n' + df['mrna']\n",
    "fasta = df['fasta'].tolist()"
   ]
  },
  {
   "cell_type": "code",
   "execution_count": 6,
   "metadata": {},
   "outputs": [
    {
     "data": {
      "text/plain": [
       "['>ECD_RS01040_tRNA-Ile_GAT\\nAGGCTTGTAGCTCAGGTGGTTAGAGCGCACCCCTGATAAGGGTGAGGTCGGTGGTTCAAGTCCACTCAGGCCTACCA\\n>BbCD00385183:break\\nATGCTCACTATCGATACGGCGTCCCGCACTTTTCACTGCAAGACCTGGGTGACGGGCCAGACACAGGGCAAGGCGGTCATCGCTCGCGAACGGATCTCGTTCTGGGGCGGCTTCGACCCGCAGACCGGCAGGATCGTGGACCCCTATTCCTCCCTGCGCGGACGCGACATCTCCGATTGCGTCCTGATCCTGCTGTCCTCGAAAGGCTCGTCCGGAACATCGGGCATGCTCTCGCTGGCGACGCGCGCCGGCCACGCGCCCGCGGCGATGATCCAGGTAGAGATGGACCCCGTGACCGTCATGGGCTGTCTCGTCAACAACATTCCCTTGCTGCAGGCGACCGGATTCGATCCGTTCGAGCAGATCCAGGACGGAGACCTGGTGCGGATAGACGGCGAGAACGGTACGATCACCCTCGCCCCCGGGCAAGCCCTCGAGCACCACCACCACCACCACTGA\\n>BcCD00540749:break\\nATGAACGGGAAGCAAGTAAACAATGTGGAAGGCGTTGTCACAGCGCTTGATAAAAACGGCTTTTATATAGAAGATAATCAGCCGGATAATGATCCAGCTACTTCAGAAGGTATGTACGTATATAAAAAAGATGCGAATGTAGCAGTAGGAGATCTTATTCAAGTTGATGGAGTAGTAGAAGAATATGTTGGACCAGGATATGCAGAGCGATTTGAAACAGACTTAACGACGACAGAAATTAAGGCGAGTCGCGTTGTTGTAATCGCAAAAGATCAATCTTTGCCAGCACCGATTGTACTTGGGGAAAACGGTGTGAAAATCCCAGACCAGATTATTGATAATGATGCATTCGGTTTATTTGATCCAAATGAAGATGCAATCGACTTTTATGAAAGTATAGAAGGCATGCGTGTTACGATGCCAACACCAAAAGTTATTGCACCTCAGAAAAACGGAAATTTATATGTAACAGTAAAAAATGGTGGAGATAAAATAGTAACACAATATGGCACACCTCTATTAGATGAAAACCAATTAAACCCAGAGCGCCTTTCTGTAAAAGTACCTCGCGATTATGTAGCAAAAGTAGGAGATACTTTCACTGGAGATATAACAGGGGTAGTAGGATATGATTACGGTTCTTTCCGTATTTCGCCAATAACAGAACTGCCAGCTGTAGTGGATGGTGGATTTAAGCAAGTAGGCGCAAATATTCAGCCACGTCTCGAGCACCACCACCACCACCACTGA\\n>BsCD00423013:break\\nATGAGCTTGCAATTTAGCGTACTTGCGAGCGGGAGTACGGGAAATGCGTTTTACCTCGAAACAGAGGATCACGCATTTTTAGTGGACGCCGGTTTGAGCGGAAAAGCCATGGATGGGCTGATGGCGCAGATCGGGCGTAAGCTGGATGATGTAGACGGCATTTTTGTGACGCATGAGCATAGTGACCATATTAAGGGCCTTGGTGTCGTCGCCAGAAAGTACAAGCTTCCGATCTATGCGAATGAGAAGACTTGGAAAGCGATGGAGAATCAAATCGGCAAAATTGACACCGATCAAAAGTTTGTATTTCCAATGGAGACGGTGAAGTCGTTCGGCGGACTTGATGTTGAATCGTTTGGCGTTTCCCACGATGCGGCGGAACCGATGTTTTATGTATTCCATTATAGCGGCCGAAAGCTCGCGTTAATGACAGATACGGGATATGTCAGCGACCGGATGAAAGGCATTATCCGTTCAGCGAATGTATTTGTGTTTGAAAGCAATCACGATGTCGGTATGCTGCAAATGGGAAGATACCCATGGAGCATTAAGCGGCGGATTTTAAGTGACGTCGGGCACGTGTCAAATGAAGATGCTGCCTTGGCGATGACGGATGTCATTGGCGATGAGACGTCTCGTATTTACCTGGCGCATTTGAGCCAGGACAACAACATGAAGGAGCTGGCAAGAATGTCTGTGCAGCAGACATTGGCTTCTAAAGGATTTGTGACGGGTGAGACATTTGACTTATACGACACCGATCCGAAGAAGGCCACTCCGCTTTGGCTGTATAATTTTTCTATGCTCGAGCACCACCACCACCACCACTGA\\n',\n",
       " '>ECD_RS01040_tRNA-Ile_GAT\\nAGGCTTGTAGCTCAGGTGGTTAGAGCGCACCCCTGATAAGGGTGAGGTCGGTGGTTCAAGTCCACTCAGGCCTACCA\\n>BbCD00385184:break\\nATGACCCTGAAAACCATGACGCTGGCTTTTGCCGTAACCGGCCTTGGCGTGTTGGCGGGATGCTCATCGCCCTCGGTGGTACAGCAGCGCGATGGCAGTCAGGTCGTGACGCCCGACGAGCCGAAGTACAACGAGGACACCGGCTTCTACGAGTACGAGAAGGACGGCCACAAGGTCCAGATGAACAAGGACGACGTCAAGACGATCGAGGAGGTCAAGCTCGAGCACCACCACCACCACCACTGA\\n>BcCD00583995:break\\nATGGGAGATAAATATATTACTGTTCAAAAAGTCGGTAAGAAAATATTCGAGGCTGAAGTAGAAATCCTTGAATACGATGCACCGCATATTATTTCACTTGGTAGTGAAATGAAGCAAGGATATTCAGCAATGACTTATATGTTAGAAGAAGATGAGGAAGGTACAGCACTAACATTAATTTCAGAATATGAACCTAGTAATTTTTATTATAAAATGATGTATAAGTTAACAGGCTGGATATCACGAGGTTTAACTATGGAACAAATGGAGCGTCTAGCAGAATGTGTAGAAGCTGCTTATCATAAAGAAGATCTCGAGCACCACCACCACCACCACTGA\\n']"
      ]
     },
     "execution_count": 6,
     "metadata": {},
     "output_type": "execute_result"
    }
   ],
   "source": [
    "fasta"
   ]
  },
  {
   "cell_type": "code",
   "execution_count": 7,
   "metadata": {},
   "outputs": [
    {
     "name": "stdout",
     "output_type": "stream",
     "text": [
      "|██████████████████████████████████████████████████| 100% (2/2) Completed!\n"
     ]
    }
   ],
   "source": [
    "my_pool = Pool(p)\n",
    "interactions = []\n",
    "progress(0,p)\n",
    "for i in my_pool.imap_unordered(interaction_calc, fasta):\n",
    "    interactions.append(i)\n",
    "    progress(len(interactions), p)\n",
    "\n",
    "my_pool.close()\n",
    "my_pool.join()"
   ]
  },
  {
   "cell_type": "code",
   "execution_count": 8,
   "metadata": {},
   "outputs": [
    {
     "name": "stdout",
     "output_type": "stream",
     "text": [
      "[\">ECD_RS01040_tRNA-Ile_GAT >BbCD00385184:break ((((....((((((&))))))..)))) 219,232 :  15,26  (-7.90 = -17.01 + 2.02 + 7.09) GCUCGAGCACCACC&GGUGGUUAGAGC >BcCD00583995:break ((((((&)))))) 320,325 :  15,20  (-7.42 = -10.60 + 0.52 + 2.66) ACCACC&GGUGGU '\", \">ECD_RS01040_tRNA-Ile_GAT >BbCD00385183:break ((((((&)))))) 449,454 :  15,20  (-7.54 = -10.60 + 0.40 + 2.66) ACCACC&GGUGGU >BcCD00540749:break ((((((&)))))) 731,736 :  15,20  (-7.33 = -10.60 + 0.61 + 2.66) ACCACC&GGUGGU >BsCD00423013:break ((((((&)))))) 818,823 :  15,20  (-7.44 = -10.60 + 0.51 + 2.66) ACCACC&GGUGGU '\"]\n"
     ]
    }
   ],
   "source": [
    "print(interactions)"
   ]
  },
  {
   "cell_type": "code",
   "execution_count": 15,
   "metadata": {},
   "outputs": [],
   "source": [
    "#parsing RNAup output\n",
    "mrna_id = pd.Series(interactions).str.extractall(r'(>[\\S]+:break)')[0].str.replace('>', '').str.replace(':break', '').to_frame().reset_index()\n",
    "ncrna_id = pd.Series(interactions).str.extractall(r'(>[\\S]+)')[0].str.replace('>', '').to_frame().loc[pd.IndexSlice[:, 0], :].reset_index()\n",
    "binding_energy = pd.Series(interactions).str.extractall(r'(\\([\\S]+\\.[0-9]+)')[0].str.replace('(', '').to_frame().reset_index()\n",
    "d = pd.merge(mrna_id, binding_energy, on=['level_0','match'])"
   ]
  },
  {
   "cell_type": "code",
   "execution_count": 20,
   "metadata": {},
   "outputs": [],
   "source": [
    "d = pd.merge(ncrna_id, d, on='level_0').iloc[:, [2,4,5]]"
   ]
  },
  {
   "cell_type": "code",
   "execution_count": 22,
   "metadata": {},
   "outputs": [],
   "source": [
    "d.columns = ['ncRNA', 'Accession', 'binding_energy']"
   ]
  },
  {
   "cell_type": "code",
   "execution_count": 23,
   "metadata": {},
   "outputs": [],
   "source": [
    "d = d.pivot(index='Accession',columns='ncRNA',values='binding_energy')"
   ]
  },
  {
   "cell_type": "code",
   "execution_count": 24,
   "metadata": {},
   "outputs": [
    {
     "data": {
      "text/html": [
       "<div>\n",
       "<style scoped>\n",
       "    .dataframe tbody tr th:only-of-type {\n",
       "        vertical-align: middle;\n",
       "    }\n",
       "\n",
       "    .dataframe tbody tr th {\n",
       "        vertical-align: top;\n",
       "    }\n",
       "\n",
       "    .dataframe thead th {\n",
       "        text-align: right;\n",
       "    }\n",
       "</style>\n",
       "<table border=\"1\" class=\"dataframe\">\n",
       "  <thead>\n",
       "    <tr style=\"text-align: right;\">\n",
       "      <th>ncRNA</th>\n",
       "      <th>ECD_RS01040_tRNA-Ile_GAT</th>\n",
       "    </tr>\n",
       "    <tr>\n",
       "      <th>Accession</th>\n",
       "      <th></th>\n",
       "    </tr>\n",
       "  </thead>\n",
       "  <tbody>\n",
       "    <tr>\n",
       "      <th>BbCD00385183</th>\n",
       "      <td>-7.54</td>\n",
       "    </tr>\n",
       "    <tr>\n",
       "      <th>BbCD00385184</th>\n",
       "      <td>-7.90</td>\n",
       "    </tr>\n",
       "    <tr>\n",
       "      <th>BcCD00540749</th>\n",
       "      <td>-7.33</td>\n",
       "    </tr>\n",
       "    <tr>\n",
       "      <th>BcCD00583995</th>\n",
       "      <td>-7.42</td>\n",
       "    </tr>\n",
       "    <tr>\n",
       "      <th>BsCD00423013</th>\n",
       "      <td>-7.44</td>\n",
       "    </tr>\n",
       "  </tbody>\n",
       "</table>\n",
       "</div>"
      ],
      "text/plain": [
       "ncRNA        ECD_RS01040_tRNA-Ile_GAT\n",
       "Accession                            \n",
       "BbCD00385183                    -7.54\n",
       "BbCD00385184                    -7.90\n",
       "BcCD00540749                    -7.33\n",
       "BcCD00583995                    -7.42\n",
       "BsCD00423013                    -7.44"
      ]
     },
     "execution_count": 24,
     "metadata": {},
     "output_type": "execute_result"
    }
   ],
   "source": [
    "d"
   ]
  },
  {
   "cell_type": "code",
   "execution_count": null,
   "metadata": {},
   "outputs": [],
   "source": []
  }
 ],
 "metadata": {
  "kernelspec": {
   "display_name": "Python 3",
   "language": "python",
   "name": "python3"
  },
  "language_info": {
   "codemirror_mode": {
    "name": "ipython",
    "version": 3
   },
   "file_extension": ".py",
   "mimetype": "text/x-python",
   "name": "python",
   "nbconvert_exporter": "python",
   "pygments_lexer": "ipython3",
   "version": "3.7.2"
  }
 },
 "nbformat": 4,
 "nbformat_minor": 2
}
