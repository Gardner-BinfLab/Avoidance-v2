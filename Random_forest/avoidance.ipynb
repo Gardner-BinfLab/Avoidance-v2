{
 "cells": [
  {
   "cell_type": "code",
   "execution_count": 1,
   "metadata": {},
   "outputs": [
    {
     "data": {
      "text/html": [
       "<style>.container { width:100% !important; }</style>"
      ],
      "text/plain": [
       "<IPython.core.display.HTML object>"
      ]
     },
     "metadata": {},
     "output_type": "display_data"
    }
   ],
   "source": [
    "import os\n",
    "import sys\n",
    "import argparse\n",
    "import itertools\n",
    "import subprocess\n",
    "import pandas as pd\n",
    "import multiprocessing\n",
    "from itertools import cycle\n",
    "from libs import functions\n",
    "from datetime import datetime\n",
    "from multiprocessing import Pool\n",
    "from subprocess import run, PIPE\n",
    "from IPython.core.display import display, HTML\n",
    "display(HTML(\"<style>.container { width:100% !important; }</style>\"))"
   ]
  },
  {
   "cell_type": "code",
   "execution_count": 2,
   "metadata": {},
   "outputs": [],
   "source": [
    "def valid_file(param):\n",
    "    base, ext = os.path.splitext(param)\n",
    "    if ext.lower() not in ('.csv', '.fasta','.fa'):\n",
    "        raise argparse.ArgumentTypeError('File must have a csv or fasta extension')\n",
    "    return param\n",
    "\n",
    "\n",
    "def check_arg(args=None):\n",
    "    parser = argparse.ArgumentParser(description='Avoidance calculator script')\n",
    "    parser.add_argument('-m', '--mrna',\n",
    "                        type=valid_file,\n",
    "                        help='mrna in csv or fasta format',\n",
    "                        required='True')\n",
    "    parser.add_argument('-n', '--ncrna',\n",
    "                        type=valid_file,\n",
    "                        help='ncrna in csv or fasta format',\n",
    "                        required='True')\n",
    "    parser.add_argument('-l','--length',\n",
    "                        help='length to calculate interactions for. default = 30 nt')\n",
    "    parser.add_argument('-o', '--output',\n",
    "                        help='Output file name.',\n",
    "                        default = 'avoidance')\n",
    "    parser.add_argument('-p','--processes',\n",
    "                        type=int,\n",
    "                        help='number of process to spawn. Default = 16')\n",
    "\n",
    "    results = parser.parse_args(args)\n",
    "    return (results.mrna,\n",
    "            results.ncrna,\n",
    "            results.length,\n",
    "            results.output,\n",
    "            results.processes)\n",
    "\n",
    "\n",
    "def interaction_calc(seq):\n",
    "    proc = run(['RNAup', '-b','-o','--interaction_first'], stdout=PIPE,stderr=subprocess.DEVNULL,\n",
    "               input=str.encode(seq)) #input is a stdin object so encode input str\n",
    "    return str(proc.stdout).replace(\"\\\\n\",\" \").replace(\"b'\",\"\")"
   ]
  },
  {
   "cell_type": "code",
   "execution_count": 9,
   "metadata": {},
   "outputs": [],
   "source": [
    "# %%timeit\n",
    "mrna = functions.fasta_to_dataframe(\"test.fa\")\n",
    "ncrna = functions.fasta_to_dataframe(\"test_ncrna.fa\")\n",
    "mrna['mrna_seq'] = '>' + mrna[1].map(str) + '\\n' + mrna[0].map(str).str[:30] + '\\n'\n",
    "ncrna['ncrna_seq'] = '>' + ncrna[1].map(str) + '\\n' + ncrna[0].map(str) + '\\n'\n",
    "mrna_seq = [rows['mrna_seq'] for index,rows in mrna.iterrows()]   \n",
    "ncrna_seq = [rows['ncrna_seq'] for index,rows in ncrna.iterrows()]\n",
    "index = pd.MultiIndex.from_product([mrna_seq , ncrna_seq], names = ['mrna', 'ncrna'])\n",
    "sequence_df = pd.DataFrame(index = index).reset_index()\n",
    "df = sequence_df.pivot(index='mrna',columns='ncrna',values='ncrna')\n",
    "df['interaction_first'] = df.reset_index().values.sum(axis=1)"
   ]
  },
  {
   "cell_type": "code",
   "execution_count": 10,
   "metadata": {},
   "outputs": [
    {
     "name": "stdout",
     "output_type": "stream",
     "text": [
      "[==================================================] 100% (5/5)Finished!\n"
     ]
    }
   ],
   "source": [
    "total_pairs = df.shape[0]\n",
    "my_pool = Pool(4)\n",
    "interactions = []\n",
    "functions.progress(0,total_pairs)\n",
    "for i in my_pool.imap_unordered(interaction_calc, df['interaction_first'], chunksize = int(total_pairs/4)):\n",
    "    interactions.append(i)\n",
    "    functions.progress(len(interactions),total_pairs)\n",
    "\n",
    "my_pool.close()\n",
    "my_pool.join()"
   ]
  },
  {
   "cell_type": "code",
   "execution_count": 11,
   "metadata": {},
   "outputs": [],
   "source": [
    "seq_id = pd.Series(interactions).str.extractall(r'(>[\\S]+)')[0].str.replace('>', '', regex=True).to_frame()\n",
    "ncrna_id = (seq_id.loc[pd.IndexSlice[:, 1:], :]).reset_index().set_index('level_0')\n",
    "mrna_id = (seq_id.loc[pd.IndexSlice[:, 0], :]).reset_index().set_index('level_0')\n",
    "binding_energy = pd.Series(interactions).str.extractall(r'(\\(-[0-9]+\\.[0-9]+)')[0].str.replace('(', '', regex=True).to_frame().reset_index().set_index('level_0')\n",
    "d = pd.concat([mrna_id.iloc[:,[1]], ncrna_id.iloc[:,[1]]], axis=1)\n",
    "match = cycle(list(range(len(ncrna))))\n",
    "d['match'] = [next(match) for i in range(len(d))]"
   ]
  },
  {
   "cell_type": "code",
   "execution_count": 12,
   "metadata": {},
   "outputs": [],
   "source": [
    "d = d.reset_index()\n",
    "d['level_0']=d['level_0'].astype(int)\n",
    "\n",
    "binding_energy = binding_energy.reset_index()\n",
    "binding_energy['level_0']=binding_energy['level_0'].astype(int)\n",
    "binding_energy['match']=binding_energy['match'].astype(int)\n",
    "d = pd.merge(binding_energy.reset_index(), d.reset_index(), on=['level_0','match'])"
   ]
  },
  {
   "cell_type": "code",
   "execution_count": 13,
   "metadata": {},
   "outputs": [],
   "source": [
    "d = d.iloc[:,[5,6,3]]\n",
    "d.columns = ['Accession', 'ncRNA', 'Binding_energy']"
   ]
  },
  {
   "cell_type": "code",
   "execution_count": null,
   "metadata": {},
   "outputs": [],
   "source": []
  }
 ],
 "metadata": {
  "kernelspec": {
   "display_name": "Python 3",
   "language": "python",
   "name": "python3"
  },
  "language_info": {
   "codemirror_mode": {
    "name": "ipython",
    "version": 3
   },
   "file_extension": ".py",
   "mimetype": "text/x-python",
   "name": "python",
   "nbconvert_exporter": "python",
   "pygments_lexer": "ipython3",
   "version": "3.7.1"
  }
 },
 "nbformat": 4,
 "nbformat_minor": 2
}
