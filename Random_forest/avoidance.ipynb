{
 "cells": [
  {
   "cell_type": "code",
   "execution_count": 1,
   "metadata": {},
   "outputs": [
    {
     "data": {
      "text/html": [
       "<style>.container { width:100% !important; }</style>"
      ],
      "text/plain": [
       "<IPython.core.display.HTML object>"
      ]
     },
     "metadata": {},
     "output_type": "display_data"
    }
   ],
   "source": [
    "import os\n",
    "import sys\n",
    "import argparse\n",
    "import itertools\n",
    "import subprocess\n",
    "import pandas as pd\n",
    "import multiprocessing\n",
    "from libs import functions\n",
    "from datetime import datetime\n",
    "from multiprocessing import Pool\n",
    "from subprocess import run, PIPE\n",
    "from IPython.core.display import display, HTML\n",
    "display(HTML(\"<style>.container { width:100% !important; }</style>\"))"
   ]
  },
  {
   "cell_type": "code",
   "execution_count": 2,
   "metadata": {},
   "outputs": [],
   "source": [
    "def valid_file(param):\n",
    "    base, ext = os.path.splitext(param)\n",
    "    if ext.lower() not in ('.csv', '.fasta','.fa'):\n",
    "        raise argparse.ArgumentTypeError('File must have a csv or fasta extension')\n",
    "    return param\n",
    "\n",
    "\n",
    "def check_arg(args=None):\n",
    "    parser = argparse.ArgumentParser(description='Avoidance calculator script')\n",
    "    parser.add_argument('-m', '--mrna',\n",
    "                        type=valid_file,\n",
    "                        help='mrna in csv or fasta format',\n",
    "                        required='True')\n",
    "    parser.add_argument('-n', '--ncrna',\n",
    "                        type=valid_file,\n",
    "                        help='ncrna in csv or fasta format',\n",
    "                        required='True')\n",
    "    parser.add_argument('-l','--length',\n",
    "                        help='length to calculate interactions for. default = 30 nt')\n",
    "    parser.add_argument('-o', '--output',\n",
    "                        help='Output file name.',\n",
    "                        default = 'avoidance')\n",
    "    parser.add_argument('-p','--processes',\n",
    "                        type=int,\n",
    "                        help='number of process to spawn. Default = 16')\n",
    "\n",
    "    results = parser.parse_args(args)\n",
    "    return (results.mrna,\n",
    "            results.ncrna,\n",
    "            results.length,\n",
    "            results.output,\n",
    "            results.processes)\n",
    "\n",
    "\n",
    "def interaction_calc(seq):\n",
    "    proc = run(['RNAup', '-b','-o','--interaction_first'], stdout=PIPE,stderr=subprocess.DEVNULL,\n",
    "               input=str.encode(seq)) #input is a stdin object so encode input str\n",
    "    return str(proc.stdout).replace(\"\\\\n\",\" \").replace(\"b'\",\"\")"
   ]
  },
  {
   "cell_type": "code",
   "execution_count": 3,
   "metadata": {},
   "outputs": [],
   "source": [
    "mrna = functions.fasta_to_dataframe(\"test.fa\")\n",
    "ncrna = functions.fasta_to_dataframe(\"test_ncrna.fa\")\n",
    "mrna['mrna_seq'] = '>' + mrna[1].map(str) + '\\n' + mrna[0].map(str).str[:30] + '\\n'\n",
    "ncrna['ncrna_seq'] = '>' + ncrna[1].map(str) + '\\n' + ncrna[0].map(str) + '\\n'\n",
    "mrna_seq = [rows['mrna_seq'] for index,rows in mrna.iterrows()]   \n",
    "ncrna_seq = [rows['ncrna_seq'] for index,rows in ncrna.iterrows()]\n",
    "index = pd.MultiIndex.from_product([mrna_seq , ncrna_seq], names = ['mrna', 'ncrna'])\n",
    "sequence_df = pd.DataFrame(index = index).reset_index()\n",
    "df = sequence_df.pivot(index='mrna',columns='ncrna',values='ncrna')\n",
    "df['interaction_first'] = df.reset_index().values.sum(axis=1)"
   ]
  },
  {
   "cell_type": "code",
   "execution_count": 27,
   "metadata": {},
   "outputs": [
    {
     "name": "stdout",
     "output_type": "stream",
     "text": [
      "[==================================================] 100% (5/5)Finished!\n"
     ]
    }
   ],
   "source": [
    "total_pairs = df.shape[0]\n",
    "my_pool = Pool(4)\n",
    "interactions = []\n",
    "functions.progress(0,total_pairs)\n",
    "for i in my_pool.imap_unordered(interaction_calc, df['interaction_first'], chunksize = int(total_pairs/4)):\n",
    "    interactions.append(i)\n",
    "    functions.progress(len(interactions),total_pairs)\n",
    "\n",
    "my_pool.close()\n",
    "my_pool.join()"
   ]
  },
  {
   "cell_type": "code",
   "execution_count": 24,
   "metadata": {},
   "outputs": [],
   "source": [
    "seq_id = pd.Series(interactions).str.extractall(r'(>\\w+-\\w+)')[0].str.replace('>', '', regex=True).to_frame()\n",
    "ncrna_id = (seq_id.loc[pd.IndexSlice[:, 1:], :]).reset_index().set_index('level_0')\n",
    "mrna_id = (seq_id.loc[pd.IndexSlice[:, 0], :]).reset_index().set_index('level_0')\n",
    "binding_energy = pd.Series(interactions).str.extractall(r'(\\(-[0-9]+\\.[0-9]+)')[0].str.replace('(', '', regex=True).to_frame().reset_index().set_index('level_0')\n",
    "d = pd.concat([mrna_id, ncrna_id, binding_energy], axis=1)\n",
    "d = d.iloc[:,[1,3,5]]\n",
    "d.columns = ['Accession', 'ncRNA', 'Binding_energy']"
   ]
  },
  {
   "cell_type": "code",
   "execution_count": 35,
   "metadata": {},
   "outputs": [
    {
     "data": {
      "text/html": [
       "<div>\n",
       "<style scoped>\n",
       "    .dataframe tbody tr th:only-of-type {\n",
       "        vertical-align: middle;\n",
       "    }\n",
       "\n",
       "    .dataframe tbody tr th {\n",
       "        vertical-align: top;\n",
       "    }\n",
       "\n",
       "    .dataframe thead th {\n",
       "        text-align: right;\n",
       "    }\n",
       "</style>\n",
       "<table border=\"1\" class=\"dataframe\">\n",
       "  <thead>\n",
       "    <tr style=\"text-align: right;\">\n",
       "      <th></th>\n",
       "      <th>Accession</th>\n",
       "      <th>ncRNA</th>\n",
       "      <th>Binding_energy</th>\n",
       "    </tr>\n",
       "  </thead>\n",
       "  <tbody>\n",
       "    <tr>\n",
       "      <th>0</th>\n",
       "      <td>NYSGXRC-10001g_1</td>\n",
       "      <td>ECD_RS01040_tRNA-Ile_GAT</td>\n",
       "      <td>-6.13</td>\n",
       "    </tr>\n",
       "    <tr>\n",
       "      <th>1</th>\n",
       "      <td>NYSGXRC-10001g_1</td>\n",
       "      <td>ECD_RS19040_tRNA-Trp_CCA</td>\n",
       "      <td>-4.40</td>\n",
       "    </tr>\n",
       "    <tr>\n",
       "      <th>2</th>\n",
       "      <td>NYSGXRC-10001c_12</td>\n",
       "      <td>ECD_RS01040_tRNA-Ile_GAT</td>\n",
       "      <td>-6.83</td>\n",
       "    </tr>\n",
       "    <tr>\n",
       "      <th>3</th>\n",
       "      <td>NYSGXRC-10001c_12</td>\n",
       "      <td>ECD_RS19040_tRNA-Trp_CCA</td>\n",
       "      <td>-5.10</td>\n",
       "    </tr>\n",
       "    <tr>\n",
       "      <th>4</th>\n",
       "      <td>NYSGXRC-10001e_10</td>\n",
       "      <td>ECD_RS01040_tRNA-Ile_GAT</td>\n",
       "      <td>-5.73</td>\n",
       "    </tr>\n",
       "    <tr>\n",
       "      <th>5</th>\n",
       "      <td>NYSGXRC-10001e_10</td>\n",
       "      <td>ECD_RS19040_tRNA-Trp_CCA</td>\n",
       "      <td>-5.92</td>\n",
       "    </tr>\n",
       "    <tr>\n",
       "      <th>6</th>\n",
       "      <td>NYSGXRC-10001d_1</td>\n",
       "      <td>ECD_RS01040_tRNA-Ile_GAT</td>\n",
       "      <td>-12.24</td>\n",
       "    </tr>\n",
       "    <tr>\n",
       "      <th>7</th>\n",
       "      <td>NYSGXRC-10001d_1</td>\n",
       "      <td>ECD_RS19040_tRNA-Trp_CCA</td>\n",
       "      <td>-5.22</td>\n",
       "    </tr>\n",
       "    <tr>\n",
       "      <th>8</th>\n",
       "      <td>NYSGXRC-10001i_1</td>\n",
       "      <td>ECD_RS01040_tRNA-Ile_GAT</td>\n",
       "      <td>-5.67</td>\n",
       "    </tr>\n",
       "    <tr>\n",
       "      <th>9</th>\n",
       "      <td>NYSGXRC-10001i_1</td>\n",
       "      <td>ECD_RS19040_tRNA-Trp_CCA</td>\n",
       "      <td>-5.90</td>\n",
       "    </tr>\n",
       "  </tbody>\n",
       "</table>\n",
       "</div>"
      ],
      "text/plain": [
       "           Accession                     ncRNA Binding_energy\n",
       "0   NYSGXRC-10001g_1  ECD_RS01040_tRNA-Ile_GAT          -6.13\n",
       "1   NYSGXRC-10001g_1  ECD_RS19040_tRNA-Trp_CCA          -4.40\n",
       "2  NYSGXRC-10001c_12  ECD_RS01040_tRNA-Ile_GAT          -6.83\n",
       "3  NYSGXRC-10001c_12  ECD_RS19040_tRNA-Trp_CCA          -5.10\n",
       "4  NYSGXRC-10001e_10  ECD_RS01040_tRNA-Ile_GAT          -5.73\n",
       "5  NYSGXRC-10001e_10  ECD_RS19040_tRNA-Trp_CCA          -5.92\n",
       "6   NYSGXRC-10001d_1  ECD_RS01040_tRNA-Ile_GAT         -12.24\n",
       "7   NYSGXRC-10001d_1  ECD_RS19040_tRNA-Trp_CCA          -5.22\n",
       "8   NYSGXRC-10001i_1  ECD_RS01040_tRNA-Ile_GAT          -5.67\n",
       "9   NYSGXRC-10001i_1  ECD_RS19040_tRNA-Trp_CCA          -5.90"
      ]
     },
     "execution_count": 35,
     "metadata": {},
     "output_type": "execute_result"
    }
   ],
   "source": [
    "# d.to_csv(filename, index=False, sep='\\t', encoding='utf-8')\n",
    "d"
   ]
  },
  {
   "cell_type": "code",
   "execution_count": null,
   "metadata": {},
   "outputs": [],
   "source": []
  }
 ],
 "metadata": {
  "kernelspec": {
   "display_name": "Python 3",
   "language": "python",
   "name": "python3"
  },
  "language_info": {
   "codemirror_mode": {
    "name": "ipython",
    "version": 3
   },
   "file_extension": ".py",
   "mimetype": "text/x-python",
   "name": "python",
   "nbconvert_exporter": "python",
   "pygments_lexer": "ipython3",
   "version": "3.7.1"
  }
 },
 "nbformat": 4,
 "nbformat_minor": 2
}
